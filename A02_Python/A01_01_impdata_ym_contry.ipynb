{
 "metadata": {
  "language_info": {
   "codemirror_mode": {
    "name": "ipython",
    "version": 3
   },
   "file_extension": ".py",
   "mimetype": "text/x-python",
   "name": "python",
   "nbconvert_exporter": "python",
   "pygments_lexer": "ipython3",
   "version": 3
  },
  "orig_nbformat": 2
 },
 "nbformat": 4,
 "nbformat_minor": 2,
 "cells": [
  {
   "cell_type": "code",
   "execution_count": null,
   "metadata": {},
   "outputs": [],
   "source": [
    "import pymysql\n",
    "import datetime as dtm\n",
    "\n",
    "connection_info = { 'host'    :'localhost'    \\\n",
    "                  , 'user'    :'root'         \\\n",
    "                  , 'password':'admin'        \\\n",
    "                  , 'db'      :'ssac_project' \\\n",
    "                  , 'charset' :'utf8'         \\\n",
    "                  }\n",
    "\n",
    "dbconn = pymysql.connect(**connection_info)\n",
    "cursor = conn.cursor()\n",
    "sql = \"\"\"\n",
    "      INSERT INTO ssac_ym_contry\n",
    "                ( yyyy, mm, contry_nm\n",
    "                , export_cnt, export_amt\n",
    "                , import_cnt, import_amt\n",
    "                , balance\n",
    "                )\n",
    "         VALUES ( %d, %d, %s\n",
    "                , %d, %f\n",
    "                , %d, %f\n",
    "                , %s\n",
    "                )\n",
    "\"\"\"\n",
    "cursor.execute(sql, (emp_no))\n",
    "\n",
    "rows = cursor.fetchall()\n",
    "\n",
    "for row in rows :\n",
    "    print(type(row), row)\n",
    "\n",
    "cursor.close()\n",
    "conn.commit()\n",
    "conn.close()\n"
   ]
  }
 ]
}